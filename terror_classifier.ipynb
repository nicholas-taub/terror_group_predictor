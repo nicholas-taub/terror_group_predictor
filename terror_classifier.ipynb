{
 "cells": [
  {
   "cell_type": "markdown",
   "metadata": {},
   "source": [
    "## This project analyzes contributing factors to terrorist acts from 1970 to 2016. The modeling segment assesses prediction accuracy of four mainstream classifiers, KNeighbors, GaussianNB, Random Forest and Gradient Boost. "
   ]
  },
  {
   "cell_type": "markdown",
   "metadata": {},
   "source": [
    "### Preparation"
   ]
  },
  {
   "cell_type": "code",
   "execution_count": 1,
   "metadata": {
    "collapsed": true
   },
   "outputs": [],
   "source": [
    "import pandas as pd\n",
    "import matplotlib.pyplot as plt \n",
    "import seaborn as sns; sns.set(style=\"darkgrid\")\n",
    "import numpy as np\n",
    "from sklearn import preprocessing\n",
    "from sklearn.preprocessing import scale, robust_scale\n",
    "from sklearn import tree\n",
    "import plotly\n",
    "from sklearn.neighbors import KNeighborsClassifier\n",
    "from sklearn.naive_bayes import GaussianNB\n",
    "from sklearn.ensemble import RandomForestClassifier, GradientBoostingClassifier\n",
    "from sklearn.model_selection import train_test_split, cross_val_predict, cross_val_score, GridSearchCV, KFold, LeaveOneOut\n",
    "from sklearn.metrics import accuracy_score, confusion_matrix, silhouette_score"
   ]
  },
  {
   "cell_type": "markdown",
   "metadata": {},
   "source": [
    "#### Load data "
   ]
  },
  {
   "cell_type": "code",
   "execution_count": 2,
   "metadata": {
    "collapsed": true
   },
   "outputs": [],
   "source": [
    "terror_df = pd.read_csv('globalterrorismdb_0617dist.csv', usecols=['iyear', 'imonth', 'iday', 'country_txt',  \n",
    "                     'region_txt', 'city', 'attacktype1_txt', 'success', 'suicide', 'targsubtype1_txt', \n",
    "                    'target1', 'natlty1_txt', 'gname', 'individual', 'claimed', 'weaptype1_txt', \n",
    "                    'nkill', 'nkillus', 'INT_ANY'])\n",
    "terror_df.columns = ['year', 'month', 'day', 'country', \n",
    "                     'region', 'city', 'suicide', 'success', 'attack_type', 'target_subtype', \n",
    "                     'target_type', 'target_nationality', 'group', 'individual', 'claimed', 'weapon', \n",
    "                     'fatalities', 'us_fatalities', 'international']\n",
    "terror_df = terror_df[terror_df.group != 'Unknown']"
   ]
  },
  {
   "cell_type": "code",
   "execution_count": 3,
   "metadata": {
    "scrolled": true
   },
   "outputs": [
    {
     "data": {
      "text/html": [
       "<div>\n",
       "<style>\n",
       "    .dataframe thead tr:only-child th {\n",
       "        text-align: right;\n",
       "    }\n",
       "\n",
       "    .dataframe thead th {\n",
       "        text-align: left;\n",
       "    }\n",
       "\n",
       "    .dataframe tbody tr th {\n",
       "        vertical-align: top;\n",
       "    }\n",
       "</style>\n",
       "<table border=\"1\" class=\"dataframe\">\n",
       "  <thead>\n",
       "    <tr style=\"text-align: right;\">\n",
       "      <th></th>\n",
       "      <th>year</th>\n",
       "      <th>month</th>\n",
       "      <th>day</th>\n",
       "      <th>country</th>\n",
       "      <th>region</th>\n",
       "      <th>city</th>\n",
       "      <th>suicide</th>\n",
       "      <th>success</th>\n",
       "      <th>attack_type</th>\n",
       "      <th>target_subtype</th>\n",
       "      <th>target_type</th>\n",
       "      <th>target_nationality</th>\n",
       "      <th>group</th>\n",
       "      <th>individual</th>\n",
       "      <th>claimed</th>\n",
       "      <th>weapon</th>\n",
       "      <th>fatalities</th>\n",
       "      <th>us_fatalities</th>\n",
       "      <th>international</th>\n",
       "    </tr>\n",
       "  </thead>\n",
       "  <tbody>\n",
       "    <tr>\n",
       "      <th>0</th>\n",
       "      <td>1970</td>\n",
       "      <td>7</td>\n",
       "      <td>2</td>\n",
       "      <td>Dominican Republic</td>\n",
       "      <td>Central America &amp; Caribbean</td>\n",
       "      <td>Santo Domingo</td>\n",
       "      <td>1</td>\n",
       "      <td>0</td>\n",
       "      <td>Assassination</td>\n",
       "      <td>Named Civilian</td>\n",
       "      <td>Julio Guzman</td>\n",
       "      <td>Dominican Republic</td>\n",
       "      <td>MANO-D</td>\n",
       "      <td>0</td>\n",
       "      <td>NaN</td>\n",
       "      <td>Unknown</td>\n",
       "      <td>1.0</td>\n",
       "      <td>NaN</td>\n",
       "      <td>0</td>\n",
       "    </tr>\n",
       "    <tr>\n",
       "      <th>1</th>\n",
       "      <td>1970</td>\n",
       "      <td>0</td>\n",
       "      <td>0</td>\n",
       "      <td>Mexico</td>\n",
       "      <td>North America</td>\n",
       "      <td>Mexico city</td>\n",
       "      <td>1</td>\n",
       "      <td>0</td>\n",
       "      <td>Hostage Taking (Kidnapping)</td>\n",
       "      <td>Diplomatic Personnel (outside of embassy, cons...</td>\n",
       "      <td>Nadine Chaval, daughter</td>\n",
       "      <td>Belgium</td>\n",
       "      <td>23rd of September Communist League</td>\n",
       "      <td>0</td>\n",
       "      <td>NaN</td>\n",
       "      <td>Unknown</td>\n",
       "      <td>0.0</td>\n",
       "      <td>NaN</td>\n",
       "      <td>1</td>\n",
       "    </tr>\n",
       "    <tr>\n",
       "      <th>5</th>\n",
       "      <td>1970</td>\n",
       "      <td>1</td>\n",
       "      <td>1</td>\n",
       "      <td>United States</td>\n",
       "      <td>North America</td>\n",
       "      <td>Cairo</td>\n",
       "      <td>1</td>\n",
       "      <td>0</td>\n",
       "      <td>Armed Assault</td>\n",
       "      <td>Police Building (headquarters, station, school)</td>\n",
       "      <td>Cairo Police Headquarters</td>\n",
       "      <td>United States</td>\n",
       "      <td>Black Nationalists</td>\n",
       "      <td>0</td>\n",
       "      <td>0.0</td>\n",
       "      <td>Firearms</td>\n",
       "      <td>0.0</td>\n",
       "      <td>0.0</td>\n",
       "      <td>-9</td>\n",
       "    </tr>\n",
       "  </tbody>\n",
       "</table>\n",
       "</div>"
      ],
      "text/plain": [
       "   year  month  day             country                       region  \\\n",
       "0  1970      7    2  Dominican Republic  Central America & Caribbean   \n",
       "1  1970      0    0              Mexico                North America   \n",
       "5  1970      1    1       United States                North America   \n",
       "\n",
       "            city  suicide  success                  attack_type  \\\n",
       "0  Santo Domingo        1        0                Assassination   \n",
       "1    Mexico city        1        0  Hostage Taking (Kidnapping)   \n",
       "5          Cairo        1        0                Armed Assault   \n",
       "\n",
       "                                      target_subtype  \\\n",
       "0                                     Named Civilian   \n",
       "1  Diplomatic Personnel (outside of embassy, cons...   \n",
       "5    Police Building (headquarters, station, school)   \n",
       "\n",
       "                 target_type  target_nationality  \\\n",
       "0               Julio Guzman  Dominican Republic   \n",
       "1    Nadine Chaval, daughter             Belgium   \n",
       "5  Cairo Police Headquarters       United States   \n",
       "\n",
       "                                group  individual  claimed    weapon  \\\n",
       "0                              MANO-D           0      NaN   Unknown   \n",
       "1  23rd of September Communist League           0      NaN   Unknown   \n",
       "5                  Black Nationalists           0      0.0  Firearms   \n",
       "\n",
       "   fatalities  us_fatalities  international  \n",
       "0         1.0            NaN              0  \n",
       "1         0.0            NaN              1  \n",
       "5         0.0            0.0             -9  "
      ]
     },
     "execution_count": 3,
     "metadata": {},
     "output_type": "execute_result"
    }
   ],
   "source": [
    "terror_df.head(3)"
   ]
  },
  {
   "cell_type": "markdown",
   "metadata": {},
   "source": [
    "#### Define function to join date and time columns "
   ]
  },
  {
   "cell_type": "code",
   "execution_count": 4,
   "metadata": {
    "collapsed": true
   },
   "outputs": [],
   "source": [
    "def datemerge(years, months=1, days=1, weeks=None, hours=None, minutes=None,\n",
    "              seconds=None, milliseconds=None, microseconds=None, nanoseconds=None):\n",
    "    years = np.asarray(years) - 1970\n",
    "    months = np.asarray(months) - 1\n",
    "    days = np.asarray(days) - 1\n",
    "    types = ('<M8[Y]', '<m8[M]', '<m8[D]', '<m8[W]', '<m8[h]',\n",
    "             '<m8[m]', '<m8[s]', '<m8[ms]', '<m8[us]', '<m8[ns]')\n",
    "    vals = (years, months, days, weeks, hours, minutes, seconds,\n",
    "            milliseconds, microseconds, nanoseconds)\n",
    "    return sum(np.asarray(v, dtype=t) for t, v in zip(types, vals)\n",
    "               if v is not None)"
   ]
  },
  {
   "cell_type": "markdown",
   "metadata": {},
   "source": [
    "#### Pass datemerge function to new date column, convert to datetime index and drop rows with any missing values "
   ]
  },
  {
   "cell_type": "code",
   "execution_count": 5,
   "metadata": {
    "collapsed": true,
    "scrolled": true
   },
   "outputs": [],
   "source": [
    "terror_df['date'] = datemerge(terror_df['year'], terror_df['month'], terror_df['day'])\n",
    "terror_df['date'] = pd.to_datetime(terror_df['date'])\n",
    "terror_df.index = terror_df.date\n",
    "terror_df.sort_index(inplace=True)\n",
    "terror_df = terror_df.dropna(how='any')    "
   ]
  },
  {
   "cell_type": "markdown",
   "metadata": {},
   "source": [
    "### Exploratory Analysis"
   ]
  },
  {
   "cell_type": "code",
   "execution_count": 6,
   "metadata": {
    "collapsed": true
   },
   "outputs": [],
   "source": [
    "# attack count resample by month, 1970-2016\n",
    "attack_count = terror_df.attack_type.resample('A').count()"
   ]
  },
  {
   "cell_type": "markdown",
   "metadata": {},
   "source": [
    "#### Plot time series illustrating terrorism frequency, 1970 to 2016; uptick in frequency appears between 1995 and 2000"
   ]
  },
  {
   "cell_type": "code",
   "execution_count": 7,
   "metadata": {
    "scrolled": true
   },
   "outputs": [
    {
     "data": {
      "image/png": "[encoded data removed]",
      "text/plain": [
       "<matplotlib.figure.Figure at 0x11022b690>"
      ]
     },
     "metadata": {},
     "output_type": "display_data"
    }
   ],
   "source": [
    "plt.figure(figsize=(15,5))\n",
    "attack_count.plot(color='grey', linewidth=3)\n",
    "plt.title('annual attack count, 1970-2016')\n",
    "plt.ylabel('count')\n",
    "plt.xlabel('attacks')\n",
    "plt.show()"
   ]
  },
  {
   "cell_type": "markdown",
   "metadata": {},
   "source": [
    "#### Horizontal barchart illustrating total fatalities by region, 1970 to 2016; South Asia and MENA show highest incidence rates regionally"
   ]
  },
  {
   "cell_type": "code",
   "execution_count": 9,
   "metadata": {},
   "outputs": [
    {
     "data": {
      "image/png": "[encoded data removed]",
      "text/plain": [
       "<matplotlib.figure.Figure at 0x112816850>"
      ]
     },
     "metadata": {},
     "output_type": "display_data"
    }
   ],
   "source": [
    "region_count = terror_df.groupby('region')['fatalities'].count()\n",
    "plt.figure(figsize=(10,10))\n",
    "plt.title('regional casualties, 1970-2016')\n",
    "plt.xlabel('count')\n",
    "plt.ylabel('region')\n",
    "region_count.plot.barh(color='red')\n",
    "plt.show()"
   ]
  },
  {
   "cell_type": "code",
   "execution_count": 10,
   "metadata": {
    "scrolled": true
   },
   "outputs": [
    {
     "data": {
      "text/plain": [
       "region                                                       \n",
       "Australasia & Oceania        Australia                             10\n",
       "                             Fiji                                   3\n",
       "                             Solomon Islands                        3\n",
       "                             United States                          2\n",
       "                             New Zealand                            2\n",
       "Central America & Caribbean  Haiti                                  8\n",
       "                             Nicaragua                              3\n",
       "                             Guatemala                              3\n",
       "                             Costa Rica                             1\n",
       "                             Panama                                 1\n",
       "Central Asia                 Georgia                               18\n",
       "                             Kazakhstan                             8\n",
       "                             Tajikistan                             6\n",
       "                             Uzbekistan                             3\n",
       "                             Kyrgyzstan                             3\n",
       "East Asia                    China                                 48\n",
       "                             Japan                                 16\n",
       "                             United States                          3\n",
       "                             South Korea                            1\n",
       "                             Taiwan                                 1\n",
       "Eastern Europe               Ukraine                              767\n",
       "                             Russia                               445\n",
       "                             Serbia-Montenegro                     63\n",
       "                             Macedonia                             51\n",
       "                             Kosovo                                15\n",
       "Middle East & North Africa   Iraq                                4218\n",
       "                             Yemen                               1765\n",
       "                             Turkey                              1222\n",
       "                             Israel                              1082\n",
       "                             Algeria                              920\n",
       "North America                United States                       1285\n",
       "                             Puerto Rico                           39\n",
       "                             Mexico                                37\n",
       "                             Canada                                20\n",
       "                             Soviet Union                           6\n",
       "South America                Colombia                            1635\n",
       "                             Paraguay                              57\n",
       "                             Peru                                  55\n",
       "                             Chile                                 37\n",
       "                             United States                         34\n",
       "South Asia                   Afghanistan                         5628\n",
       "                             India                               4832\n",
       "                             Pakistan                            2652\n",
       "                             Sri Lanka                            667\n",
       "                             Nepal                                586\n",
       "Southeast Asia               Philippines                         2329\n",
       "                             Thailand                             603\n",
       "                             Indonesia                            284\n",
       "                             Myanmar                              129\n",
       "                             United States                         17\n",
       "Sub-Saharan Africa           Nigeria                             2161\n",
       "                             Somalia                             1535\n",
       "                             International                        437\n",
       "                             Democratic Republic of the Congo     395\n",
       "                             Kenya                                331\n",
       "Western Europe               Northern Ireland                     338\n",
       "                             Spain                                258\n",
       "                             Greece                               205\n",
       "                             France                               167\n",
       "                             Great Britain                        109\n",
       "Name: target_nationality, dtype: int64"
      ]
     },
     "execution_count": 10,
     "metadata": {},
     "output_type": "execute_result"
    }
   ],
   "source": [
    "# top five countries with terror instances by region\n",
    "country_frequency = terror_df.groupby('region').target_nationality.apply(lambda x: x.value_counts().nlargest(5))\n",
    "country_frequency"
   ]
  },
  {
   "cell_type": "markdown",
   "metadata": {},
   "source": [
    "#### Horizontal barchart illustrating ten most active terror organizations globally, 1970 to 2016"
   ]
  },
  {
   "cell_type": "code",
   "execution_count": 14,
   "metadata": {},
   "outputs": [
    {
     "data": {
      "image/png": "[encoded data removed]",
      "text/plain": [
       "<matplotlib.figure.Figure at 0x1106a6490>"
      ]
     },
     "metadata": {},
     "output_type": "display_data"
    }
   ],
   "source": [
    "# top groups internationally\n",
    "top_groups = terror_df['group'].value_counts().nlargest(10).sort_values()\n",
    "plt.figure(figsize=(15,10))\n",
    "plt.title('ten most active organizations globally')\n",
    "plt.xlabel('count')\n",
    "top_groups.plot.barh(color='purple')\n",
    "plt.show()"
   ]
  },
  {
   "cell_type": "markdown",
   "metadata": {},
   "source": [
    "#### Horizontal barchart illustrating total fatality counts per weapon types; explosives/bombs/dynamite and firearms show sweeping popularity"
   ]
  },
  {
   "cell_type": "code",
   "execution_count": 15,
   "metadata": {
    "scrolled": true
   },
   "outputs": [
    {
     "data": {
      "image/png": "[encoded data removed]",
      "text/plain": [
       "<matplotlib.figure.Figure at 0x110b80790>"
      ]
     },
     "metadata": {},
     "output_type": "display_data"
    }
   ],
   "source": [
    "# top five weapons of choice globally\n",
    "top_attacks = terror_df['weapon'].value_counts().nlargest(5).sort_values()\n",
    "plt.figure(figsize=(15,5))\n",
    "plt.title('top five weapons globally')\n",
    "plt.xlabel('count')\n",
    "top_attacks.plot.barh(color='maroon')\n",
    "plt.show()"
   ]
  },
  {
   "cell_type": "markdown",
   "metadata": {},
   "source": [
    "#### Barchart illustrating result of suicide per terrorist act regionally, 1970 to 2016; results should be considered as associated with, not replacing of, weapon of choice as shown above "
   ]
  },
  {
   "cell_type": "code",
   "execution_count": 18,
   "metadata": {},
   "outputs": [
    {
     "data": {
      "image/png": "[encoded data removed]",
      "text/plain": [
       "<matplotlib.figure.Figure at 0x116773e90>"
      ]
     },
     "metadata": {},
     "output_type": "display_data"
    }
   ],
   "source": [
    "# result in suicide by region\n",
    "suicide_frequency = terror_df.groupby('region').suicide.sum().nlargest(5)\n",
    "plt.figure(figsize=(15,5))\n",
    "plt.title('top five regions with terrorist suicides')\n",
    "plt.ylabel('count')\n",
    "suicide_frequency.plot(kind='bar', color='olive')\n",
    "plt.xticks(rotation=0)\n",
    "plt.show()"
   ]
  },
  {
   "cell_type": "markdown",
   "metadata": {},
   "source": [
    "### Preprocessing"
   ]
  },
  {
   "cell_type": "code",
   "execution_count": 19,
   "metadata": {},
   "outputs": [
    {
     "data": {
      "text/plain": [
       "(44198, 20)"
      ]
     },
     "execution_count": 19,
     "metadata": {},
     "output_type": "execute_result"
    }
   ],
   "source": [
    "# check df shape\n",
    "terror_df.shape"
   ]
  },
  {
   "cell_type": "markdown",
   "metadata": {},
   "source": [
    "#### Create new df for modeling purposes"
   ]
  },
  {
   "cell_type": "code",
   "execution_count": 21,
   "metadata": {
    "collapsed": true,
    "scrolled": true
   },
   "outputs": [],
   "source": [
    "model_df = terror_df[['year', 'country', 'target_type', 'attack_type', 'success', 'group']]"
   ]
  },
  {
   "cell_type": "markdown",
   "metadata": {},
   "source": [
    "#### Check df data types"
   ]
  },
  {
   "cell_type": "code",
   "execution_count": 23,
   "metadata": {
    "scrolled": true
   },
   "outputs": [
    {
     "data": {
      "text/plain": [
       "year            int64\n",
       "country        object\n",
       "target_type    object\n",
       "attack_type    object\n",
       "success         int64\n",
       "group          object\n",
       "dtype: object"
      ]
     },
     "execution_count": 23,
     "metadata": {},
     "output_type": "execute_result"
    }
   ],
   "source": [
    "model_df.dtypes"
   ]
  },
  {
   "cell_type": "markdown",
   "metadata": {},
   "source": [
    "#### Fit transform to Label Encoder object; assign X and y variables for train and test data "
   ]
  },
  {
   "cell_type": "code",
   "execution_count": 25,
   "metadata": {
    "scrolled": true
   },
   "outputs": [
    {
     "name": "stdout",
     "output_type": "stream",
     "text": [
      "Training x: (35358, 4) y: (35358,)\n",
      "Testing x: (8840, 4) y: (8840, 1)\n"
     ]
    }
   ],
   "source": [
    "le = preprocessing.LabelEncoder()\n",
    "le.fit(model_df.values.flatten())\n",
    "encode_df = model_df.apply(le.fit_transform)\n",
    "X = encode_df.iloc[:, :4]\n",
    "y = encode_df.iloc[:, 4:5]\n",
    "xtrain, xtest, ytrain, ytest = train_test_split(X, y, test_size=0.2, random_state=100)\n",
    "ytrain = ytrain.values.ravel()\n",
    "print 'Training', 'x:', xtrain.shape, 'y:', ytrain.shape\n",
    "print 'Testing', 'x:', xtest.shape, 'y:', ytest.shape"
   ]
  },
  {
   "cell_type": "markdown",
   "metadata": {},
   "source": [
    "### Group Classification & Performance Evaluation"
   ]
  },
  {
   "cell_type": "markdown",
   "metadata": {},
   "source": [
    "#### The following classification algorithms leverage year of event, location of country of attack, target type and success rate (either 1 for yes, 0 for no) for predicting the accused group associated with the unique attacks."
   ]
  },
  {
   "cell_type": "code",
   "execution_count": 26,
   "metadata": {
    "scrolled": true
   },
   "outputs": [
    {
     "name": "stdout",
     "output_type": "stream",
     "text": [
      "RFC Accuracy: 93.32579185520362 %\n"
     ]
    }
   ],
   "source": [
    "# Random Forest Classifier\n",
    "rfc = RandomForestClassifier()\n",
    "rfc.fit(xtrain, ytrain)\n",
    "rfc_pred = rfc.predict(xtest)\n",
    "print 'RFC Accuracy:', (accuracy_score(ytest, rfc_pred) * 100), '%'"
   ]
  },
  {
   "cell_type": "code",
   "execution_count": 27,
   "metadata": {},
   "outputs": [
    {
     "name": "stdout",
     "output_type": "stream",
     "text": [
      "KNC Accuracy: 92.88461538461539 %\n"
     ]
    }
   ],
   "source": [
    "# KNeighbors Classifier\n",
    "knc = KNeighborsClassifier()\n",
    "knc.fit(xtrain, ytrain)\n",
    "knc_pred = knc.predict(xtest)\n",
    "print 'KNC Accuracy:', (accuracy_score(ytest, knc_pred) * 100), '%'"
   ]
  },
  {
   "cell_type": "code",
   "execution_count": 28,
   "metadata": {},
   "outputs": [
    {
     "name": "stdout",
     "output_type": "stream",
     "text": [
      "Cross Validation scores, KNeighbors Classifier:\n",
      "\n",
      "[0.9091860294676097, 0.9254478543098574, 0.9315852123371231, 0.9342437674582825, 0.9350356786901199, 0.9350923517465773, 0.9350641432004496, 0.9341025886888434, 0.9343571135711974, 0.9341026206623155, 0.9342157988398603, 0.9342157988398603, 0.933282428914634, 0.9323490589577419, 0.9318399611921121, 0.9311612361198783, 0.9303411003461297, 0.9301996336390161, 0.9301713610961834, 0.9301997296227646, 0.9302280821535623, 0.9301433205125681, 0.9304543665072691, 0.9301998895941708, 0.9303413242961461]\n"
     ]
    }
   ],
   "source": [
    "# Cross Validation of KNeighbors Classifier\n",
    "numlist = list(range(1,50))\n",
    "neighbs = filter(lambda x: x % 2 != 0, numlist)\n",
    "kn_cv_scores = []\n",
    "for k in neighbs:\n",
    "    knn = KNeighborsClassifier(n_neighbors=k)\n",
    "    scores = cross_val_score(knn, xtrain, ytrain, cv=10, scoring='accuracy')\n",
    "    kn_cv_scores.append(scores.mean())\n",
    "print 'Cross Validation scores, KNeighbors Classifier:\\n'\n",
    "print kn_cv_scores"
   ]
  },
  {
   "cell_type": "code",
   "execution_count": 29,
   "metadata": {},
   "outputs": [
    {
     "name": "stdout",
     "output_type": "stream",
     "text": [
      "GBC Accuracy: 92.534 %\n"
     ]
    }
   ],
   "source": [
    "# Gradient Boosting Classifier\n",
    "gbc = GradientBoostingClassifier(n_estimators=10, max_features=4)\n",
    "gbc.fit(xtrain, ytrain)\n",
    "gbc_pred = gbc.predict(xtest)\n",
    "print 'GBC Accuracy:', round((accuracy_score(ytest, gbc_pred) * 100), 3), '%'"
   ]
  },
  {
   "cell_type": "code",
   "execution_count": 31,
   "metadata": {},
   "outputs": [
    {
     "name": "stdout",
     "output_type": "stream",
     "text": [
      "GBC Cross Val Mean Score: 92.724 %\n"
     ]
    }
   ],
   "source": [
    "# Average KFold cross validation of Gradient Boosting Classifier\n",
    "gbc_kfold = KFold(n_splits=10, random_state=7)\n",
    "gbc_cv = cross_val_score(gbc, X, y.values.ravel(), cv=gbc_kfold)\n",
    "print 'GBC Cross Val Mean Score:', round((gbc_cv.mean()*100), 3), '%'"
   ]
  },
  {
   "cell_type": "code",
   "execution_count": 32,
   "metadata": {},
   "outputs": [
    {
     "name": "stdout",
     "output_type": "stream",
     "text": [
      "GNB Accuracy: 92.534 %\n"
     ]
    }
   ],
   "source": [
    "# Gaussian NB Classifier\n",
    "gnb = GaussianNB()\n",
    "gnb.fit(xtrain, ytrain)\n",
    "gnb_pred = gnb.predict(xtest)\n",
    "print 'GNB Accuracy:', round((accuracy_score(ytest, gnb_pred) * 100), 3), '%'"
   ]
  },
  {
   "cell_type": "code",
   "execution_count": 33,
   "metadata": {},
   "outputs": [
    {
     "name": "stdout",
     "output_type": "stream",
     "text": [
      "GNB Cross Validation Mean Score: 92.724 %\n"
     ]
    }
   ],
   "source": [
    "# KFold cross validation of Gaussian NB Classifier\n",
    "gnb_kfold = KFold(n_splits=5, random_state=5)\n",
    "gnb_cv = cross_val_score(gnb, X, y.values.ravel(), cv=gnb_kfold)\n",
    "print 'GNB Cross Validation Mean Score:', round((gnb_cv.mean()*100), 3), '%'"
   ]
  },
  {
   "cell_type": "markdown",
   "metadata": {
    "collapsed": true
   },
   "source": [
    "### Conclusions"
   ]
  },
  {
   "cell_type": "markdown",
   "metadata": {},
   "source": [
    "#### Overall, acts of terrorism show a relatively growing popularity since the start of the twenty first century. South Asia and MENA unsurprisingly show highest incidence rates, with explosives and firearms the preferred weapons of choice. Suicide too shows highest frequencies in South Asia and MENA. \n",
    "#### From a modeling standpoint, classification algorithms appear quick and efficient when predicting the organization of unique terror events. Equivalent accuracy scores between specific models may warrant incorporation of additional model features, an initiative which for future research would be beneficial for preemptive counter strategizing. "
   ]
  },
  {
   "cell_type": "markdown",
   "metadata": {
    "collapsed": true
   },
   "source": [
    "### Implications"
   ]
  },
  {
   "cell_type": "markdown",
   "metadata": {},
   "source": [
    "#### The features selected for predicting terror organizations showed as effective, however specific attributes of the features should be flagged for potential change if leveraged in future studies. Year, for example, holds relevance within the context of the space and period in which the event has occurred; thus, a long term projection of group-specific behavior will depend on the broader timeframe of that group and not just one or more observations. Weapon choice too changes as a function of context and setting given rapid advances in weapon technologies. "
   ]
  },
  {
   "cell_type": "code",
   "execution_count": null,
   "metadata": {
    "collapsed": true
   },
   "outputs": [],
   "source": []
  }
 ],
 "metadata": {
  "kernelspec": {
   "display_name": "Python 2",
   "language": "python",
   "name": "python2"
  },
  "language_info": {
   "codemirror_mode": {
    "name": "ipython",
    "version": 2
   },
   "file_extension": ".py",
   "mimetype": "text/x-python",
   "name": "python",
   "nbconvert_exporter": "python",
   "pygments_lexer": "ipython2",
   "version": "2.7.13"
  }
 },
 "nbformat": 4,
 "nbformat_minor": 2
}
